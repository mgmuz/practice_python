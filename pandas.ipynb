{
 "cells": [
  {
   "cell_type": "markdown",
   "id": "dec2038a-6a0b-410b-8d0f-9c538a4a9cda",
   "metadata": {},
   "source": [
    "# Pandasデータの使用方法\n",
    "`pandas`は，Pythonでデータの操作や分析を効率的に行うためのライブラリである．\n",
    "\n",
    "主に構造化データ（例えば、表形式のデータ、CSVファイル、Excelファイルなど）を扱うために使用され，\n",
    "データの前処理、集計、可視化、統計分析などを簡単に行うことができる．"
   ]
  },
  {
   "cell_type": "markdown",
   "id": "1c922014-7fee-42e7-ac9e-b4864beecab0",
   "metadata": {},
   "source": [
    "<img src=\"images/pandas_data.png\" width=\"400\">\n",
    "\n",
    "**DataFrame**\n",
    "  \n",
    "    pandasの最も特徴的なデータ構造はDataFrameです。DataFrameは、行と列からなる2次元のラベル付きデータ構造で、ExcelのスプレッドシートやSQLのテーブルに似ています。行と列にラベル（インデックスとカラム名）がついているため、データを扱いやすく、操作も簡単です。\n",
    "\n",
    "**Series**\n",
    "\n",
    "    Seriesは、1次元のラベル付き配列で、DataFrameの列を構成する単位です。データとラベルが1対1で対応するため、非常に効率的にデータを操作できます。\n",
    "\n",
    "**データの読み書き**\n",
    "\n",
    "    CSVファイルやExcelファイル，SQLデータベース，JSONなど，さまざまな形式のデータを読み書きするための関数を提供している．\n",
    "    \n",
    "**データ操作**\n",
    "\n",
    "    データのフィルタリングや並べ替え，集計，欠損値の処理，データの変換，グルーピング（groupby）などが簡単にできる．\n",
    "\n",
    "  "
   ]
  },
  {
   "cell_type": "code",
   "execution_count": 126,
   "id": "293fa82b-ca20-4c87-b711-1c69ec71aaed",
   "metadata": {},
   "outputs": [],
   "source": [
    "import numpy as np\n",
    "import pandas as pd"
   ]
  },
  {
   "cell_type": "code",
   "execution_count": 127,
   "id": "e91c4611-f5d8-4688-9359-b835c9bc0406",
   "metadata": {},
   "outputs": [
    {
     "name": "stdout",
     "output_type": "stream",
     "text": [
      "<class 'pandas.core.frame.DataFrame'> <class 'pandas.core.series.Series'>\n",
      "Column1      int64\n",
      "Column2    float64\n",
      "Column3     object\n",
      "dtype: object\n"
     ]
    }
   ],
   "source": [
    "# 乱数を使って100行3列のデータを作成\n",
    "np.random.seed(0)  # 再現性のためシードを設定，削除すると実行するたび値が変更される\n",
    "\n",
    "# 3列のデータをランダムに生成\n",
    "data_pd = {\n",
    "    'Column1': np.random.randint(1, 100, 100),                   # 1から100の整数を100個生成\n",
    "    'Column2': np.random.randn(100),                             # 標準正規分布に従う乱数を100個生成\n",
    "    'Column3': np.random.choice(['A', 'B', 'C', 'D', 'E'], 100)  # 'A', 'B', 'C'からランダムに選択\n",
    "}\n",
    "\n",
    "data_s  = {\n",
    "    'Column1': np.random.randint(1, 1000, 100),                  # 1から100の整数を100個生成\n",
    "}\n",
    "\n",
    "df = pd.DataFrame(data_pd) # DataFrameを作成\n",
    "ds = pd.Series(data_s)     # Seriesを作成\n",
    "\n",
    "print(type(df), type(ds))  # 変数タイプを確認する，DataFrameとSeriesは使える関数や処理が異なるので注意する\n",
    "print(df.dtypes)           # Dataframeの各列に入っているデータの変数タイプを確認する"
   ]
  },
  {
   "cell_type": "markdown",
   "id": "9a52adba-117d-4b94-8c38-17b4b0ac53b9",
   "metadata": {},
   "source": [
    "<img src=\"images/dataframe.png\" width=\"500\">"
   ]
  },
  {
   "cell_type": "code",
   "execution_count": 128,
   "id": "e5fa336c-0e89-4d48-9e38-46b42b564a0f",
   "metadata": {},
   "outputs": [
    {
     "name": "stdout",
     "output_type": "stream",
     "text": [
      "   Column1   Column2 Column3\n",
      "0       45  0.144079       E\n",
      "1       48  0.398542       E\n",
      "2       65  0.026869       C\n",
      "3       68  1.055837       D\n",
      "4       68 -0.073183       D \n",
      "\n",
      "    Column1   Column2 Column3\n",
      "95       86  0.576848       A\n",
      "96       49  0.060000       A\n",
      "97       50  0.513794       B\n",
      "98       70 -0.657177       A\n",
      "99       42 -0.680979       D \n",
      "\n",
      "Index(['Column1', 'Column2', 'Column3'], dtype='object') \n",
      "\n",
      "RangeIndex(start=0, stop=100, step=1) \n",
      "\n"
     ]
    }
   ],
   "source": [
    "print(df.head(), \"\\n\")  # データ最初の5行を表示, Dataframeのみ\n",
    "print(df.tail(), \"\\n\")  # データ最後の5行を表示, Dataframeのみ\n",
    "print(df.columns,\"\\n\")  # 列名を表示, Dataframeのみ\n",
    "print(df.index,  \"\\n\")  # index番号を表示 (指定しない限り自動割り当て）"
   ]
  },
  {
   "cell_type": "markdown",
   "id": "463b9cda-cdac-406b-bd5e-d6d935152c3c",
   "metadata": {},
   "source": [
    "■ 特定の行，特定の列を指定して任意の値を取り出す"
   ]
  },
  {
   "cell_type": "code",
   "execution_count": 129,
   "id": "243c3f67-90c9-4dd8-9676-f79273bacb64",
   "metadata": {},
   "outputs": [
    {
     "name": "stdout",
     "output_type": "stream",
     "text": [
      "0    0.144079\n",
      "1    0.398542\n",
      "2    0.026869\n",
      "3    1.055837\n",
      "4   -0.073183\n",
      "Name: Column2, dtype: float64 \n",
      "\n",
      "0.026869248389851576 \n",
      "\n",
      "Column1          65\n",
      "Column2    0.026869\n",
      "Column3           C\n",
      "Name: 2, dtype: object \n",
      "\n"
     ]
    }
   ],
   "source": [
    "print(df[\"Column2\"].head(), \"\\n\") # \"Column2\"列のデータだけ取り出す, 長いため最初の5行のみ出力する\n",
    "print(df[\"Column2\"][2], \"\\n\")     # \"Column2\"列2行目のデータだけ取り出す \n",
    "print(df.iloc[2], \"\\n\")           # 2行目のデータを取り出す"
   ]
  },
  {
   "cell_type": "code",
   "execution_count": 130,
   "id": "b90a5343-e6c9-4fe9-8a7b-20fc1db9e733",
   "metadata": {},
   "outputs": [
    {
     "name": "stdout",
     "output_type": "stream",
     "text": [
      "    Column1   Column2 Column3\n",
      "2        65  0.026869       C\n",
      "3        68  1.055837       D\n",
      "4        68 -0.073183       D\n",
      "5        10 -0.665721       B\n",
      "6        84 -0.044112       C\n",
      "7        22 -0.363267       E\n",
      "8        37 -0.012345       D\n",
      "9        88  0.042121       D\n",
      "10       71  1.959296       B\n",
      "11       89 -0.198426       B\n",
      "12       89  0.330534       B\n",
      "13       13 -1.435828       B\n",
      "14       59  0.027528       C\n",
      "15       66  1.120605       A\n",
      "16       40 -0.224039       D\n",
      "17       88 -0.420183       B\n",
      "18       47  0.999830       E\n",
      "19       89  0.431034       D\n",
      "20       82 -0.650913       B\n"
     ]
    }
   ],
   "source": [
    "# 2~20行目のデータを取り出す\n",
    "# 指定する配列番号は21だが，取り出せるデータは1つ前の20番目まで\n",
    "print(df.iloc[2:21]) "
   ]
  },
  {
   "cell_type": "code",
   "execution_count": 131,
   "id": "91a5b300-5ffe-4a27-be7c-20f18ec6fd11",
   "metadata": {},
   "outputs": [
    {
     "name": "stdout",
     "output_type": "stream",
     "text": [
      "10    1.959296\n",
      "11   -0.198426\n",
      "12    0.330534\n",
      "13   -1.435828\n",
      "14    0.027528\n",
      "15    1.120605\n",
      "16   -0.224039\n",
      "17   -0.420183\n",
      "18    0.999830\n",
      "19    0.431034\n",
      "20   -0.650913\n",
      "Name: Column2, dtype: float64\n"
     ]
    }
   ],
   "source": [
    "# column名を指定し特定の行（10~20行目）を取り出す\n",
    "print(df[\"Column2\"][10:21]) "
   ]
  },
  {
   "cell_type": "markdown",
   "id": "fb0e857b-1d76-4a59-b5dd-de2f69c4555e",
   "metadata": {},
   "source": [
    "■ 特定の列におけるデータ個数や平均値，標準偏差などを出力する"
   ]
  },
  {
   "cell_type": "code",
   "execution_count": 137,
   "id": "4d8acc6d-c9b1-4c9a-9b77-b85f2266096e",
   "metadata": {},
   "outputs": [
    {
     "name": "stdout",
     "output_type": "stream",
     "text": [
      "count    100.000000\n",
      "mean      47.850000\n",
      "std       27.015661\n",
      "min        1.000000\n",
      "25%       24.000000\n",
      "50%       48.000000\n",
      "75%       70.250000\n",
      "max       92.000000\n",
      "Name: Column1, dtype: float64 \n",
      "\n",
      "47.85\n"
     ]
    }
   ],
   "source": [
    "# \"Column1\"列の統計情報を出力する\n",
    "print(df[\"Column1\"].describe(), \"\\n\")\n",
    "\n",
    "# 統計情報から更に平均値のみを取り出す\n",
    "print(df[\"Column1\"].describe()[\"mean\"]) "
   ]
  },
  {
   "cell_type": "markdown",
   "id": "dadcf79d-280e-40c0-bd81-942fc49309ca",
   "metadata": {},
   "source": [
    "■ 特定の行列値を置換する\n",
    "\n",
    "ここでは，Column3の2~5行目の値を文字'Z'に"
   ]
  },
  {
   "cell_type": "code",
   "execution_count": 133,
   "id": "4ea2a715-b772-488c-a63e-ff66811a45b0",
   "metadata": {},
   "outputs": [
    {
     "name": "stdout",
     "output_type": "stream",
     "text": [
      "   Column1   Column2 Column3\n",
      "2       65  0.026869       C\n",
      "3       68  1.055837       D\n",
      "4       68 -0.073183       D\n",
      "5       10 -0.665721       B\n",
      "6       84 -0.044112       C\n",
      "7       22 -0.363267       E\n",
      "   Column1   Column2 Column3\n",
      "2       65  0.026869       Z\n",
      "3       68  1.055837       Z\n",
      "4       68 -0.073183       Z\n",
      "5       10 -0.665721       Z\n",
      "6       84 -0.044112       C\n",
      "7       22 -0.363267       E\n"
     ]
    }
   ],
   "source": [
    "print(df.iloc[2:8])          # 置換前\n",
    "df.loc[2:5, 'Column3'] = 'Z' # もしくは df.iloc[2:6, df.columns.get_loc('Column3')] = 'Z'\n",
    "print(df.iloc[2:8])          # 置換後"
   ]
  },
  {
   "cell_type": "code",
   "execution_count": null,
   "id": "8432e92b-2afd-4130-9954-d4e80ba6880a",
   "metadata": {},
   "outputs": [],
   "source": []
  }
 ],
 "metadata": {
  "kernelspec": {
   "display_name": "Python(practice_python)",
   "language": "python",
   "name": "practice_python"
  },
  "language_info": {
   "codemirror_mode": {
    "name": "ipython",
    "version": 3
   },
   "file_extension": ".py",
   "mimetype": "text/x-python",
   "name": "python",
   "nbconvert_exporter": "python",
   "pygments_lexer": "ipython3",
   "version": "3.13.1"
  }
 },
 "nbformat": 4,
 "nbformat_minor": 5
}
